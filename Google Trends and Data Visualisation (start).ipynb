{
 "cells": [
  {
   "cell_type": "markdown",
   "metadata": {},
   "source": [
    "# Introduction"
   ]
  },
  {
   "cell_type": "markdown",
   "metadata": {},
   "source": [
    "Google Trends gives us an estimate of search volume. Let's explore if search popularity relates to other kinds of data. Perhaps there are patterns in Google's search volume and the price of Bitcoin or a hot stock like Tesla. Perhaps search volume for the term \"Unemployment Benefits\" can tell us something about the actual unemployment rate? \n",
    "\n",
    "Data Sources: <br>\n",
    "<ul>\n",
    "<li> <a href=\"https://fred.stlouisfed.org/series/UNRATE/\">Unemployment Rate from FRED</a></li>\n",
    "<li> <a href=\"https://trends.google.com/trends/explore\">Google Trends</a> </li>  \n",
    "<li> <a href=\"https://finance.yahoo.com/quote/TSLA/history?p=TSLA\">Yahoo Finance for Tesla Stock Price</a> </li>    \n",
    "<li> <a href=\"https://finance.yahoo.com/quote/BTC-USD/history?p=BTC-USD\">Yahoo Finance for Bitcoin Stock Price</a> </li>\n",
    "</ul>"
   ]
  },
  {
   "cell_type": "markdown",
   "metadata": {},
   "source": [
    "# Import Statements"
   ]
  },
  {
   "cell_type": "code",
   "execution_count": 4,
   "metadata": {},
   "outputs": [],
   "source": [
    "import pandas as pd\n",
    "import matplotlib.pyplot as plt"
   ]
  },
  {
   "cell_type": "markdown",
   "metadata": {},
   "source": [
    "# Read the Data\n",
    "\n",
    "Download and add the .csv files to the same folder as your notebook."
   ]
  },
  {
   "cell_type": "code",
   "execution_count": 5,
   "metadata": {},
   "outputs": [],
   "source": [
    "df_tesla = pd.read_csv('TESLA Search Trend vs Price.csv')\n",
    "\n",
    "df_btc_search = pd.read_csv('Bitcoin Search Trend.csv')\n",
    "df_btc_price = pd.read_csv('Daily Bitcoin Price.csv')\n",
    "\n",
    "df_unemployment = pd.read_csv('UE Benefits Search vs UE Rate 2004-19.csv')"
   ]
  },
  {
   "cell_type": "markdown",
   "metadata": {},
   "source": [
    "# Data Exploration"
   ]
  },
  {
   "cell_type": "markdown",
   "metadata": {},
   "source": [
    "### Tesla"
   ]
  },
  {
   "cell_type": "markdown",
   "metadata": {},
   "source": [
    "**Challenge**: <br>\n",
    "<ul>\n",
    "<li>What are the shapes of the dataframes? </li>\n",
    "<li>How many rows and columns? </li>\n",
    "<li>What are the column names? </li>\n",
    "<li>Complete the f-string to show the largest/smallest number in the search data column</li> \n",
    "<li>Try the <code>.describe()</code> function to see some useful descriptive statistics</li>\n",
    "<li>What is the periodicity of the time series data (daily, weekly, monthly)? </li>\n",
    "<li>What does a value of 100 in the Google Trend search popularity actually mean?</li>\n",
    "</ul>"
   ]
  },
  {
   "cell_type": "code",
   "execution_count": 3,
   "metadata": {},
   "outputs": [
    {
     "data": {
      "text/html": [
       "<div>\n",
       "<style scoped>\n",
       "    .dataframe tbody tr th:only-of-type {\n",
       "        vertical-align: middle;\n",
       "    }\n",
       "\n",
       "    .dataframe tbody tr th {\n",
       "        vertical-align: top;\n",
       "    }\n",
       "\n",
       "    .dataframe thead th {\n",
       "        text-align: right;\n",
       "    }\n",
       "</style>\n",
       "<table border=\"1\" class=\"dataframe\">\n",
       "  <thead>\n",
       "    <tr style=\"text-align: right;\">\n",
       "      <th></th>\n",
       "      <th>MONTH</th>\n",
       "      <th>TSLA_WEB_SEARCH</th>\n",
       "      <th>TSLA_USD_CLOSE</th>\n",
       "    </tr>\n",
       "  </thead>\n",
       "  <tbody>\n",
       "    <tr>\n",
       "      <th>0</th>\n",
       "      <td>2010-06-01</td>\n",
       "      <td>3</td>\n",
       "      <td>4.766</td>\n",
       "    </tr>\n",
       "    <tr>\n",
       "      <th>1</th>\n",
       "      <td>2010-07-01</td>\n",
       "      <td>3</td>\n",
       "      <td>3.988</td>\n",
       "    </tr>\n",
       "    <tr>\n",
       "      <th>2</th>\n",
       "      <td>2010-08-01</td>\n",
       "      <td>2</td>\n",
       "      <td>3.896</td>\n",
       "    </tr>\n",
       "    <tr>\n",
       "      <th>3</th>\n",
       "      <td>2010-09-01</td>\n",
       "      <td>2</td>\n",
       "      <td>4.082</td>\n",
       "    </tr>\n",
       "    <tr>\n",
       "      <th>4</th>\n",
       "      <td>2010-10-01</td>\n",
       "      <td>2</td>\n",
       "      <td>4.368</td>\n",
       "    </tr>\n",
       "  </tbody>\n",
       "</table>\n",
       "</div>"
      ],
      "text/plain": [
       "        MONTH  TSLA_WEB_SEARCH  TSLA_USD_CLOSE\n",
       "0  2010-06-01                3           4.766\n",
       "1  2010-07-01                3           3.988\n",
       "2  2010-08-01                2           3.896\n",
       "3  2010-09-01                2           4.082\n",
       "4  2010-10-01                2           4.368"
      ]
     },
     "execution_count": 3,
     "metadata": {},
     "output_type": "execute_result"
    }
   ],
   "source": [
    "df_tesla.head()"
   ]
  },
  {
   "cell_type": "code",
   "execution_count": 6,
   "metadata": {},
   "outputs": [
    {
     "data": {
      "text/plain": [
       "(124, 3)"
      ]
     },
     "execution_count": 6,
     "metadata": {},
     "output_type": "execute_result"
    }
   ],
   "source": [
    "# Shape - rows and columns\n",
    "df_tesla.shape"
   ]
  },
  {
   "cell_type": "code",
   "execution_count": 7,
   "metadata": {},
   "outputs": [
    {
     "data": {
      "text/plain": [
       "Index(['MONTH', 'TSLA_WEB_SEARCH', 'TSLA_USD_CLOSE'], dtype='object')"
      ]
     },
     "execution_count": 7,
     "metadata": {},
     "output_type": "execute_result"
    }
   ],
   "source": [
    "# Column names\n",
    "df_tesla.columns"
   ]
  },
  {
   "cell_type": "code",
   "execution_count": 11,
   "metadata": {},
   "outputs": [
    {
     "data": {
      "text/html": [
       "<div>\n",
       "<style scoped>\n",
       "    .dataframe tbody tr th:only-of-type {\n",
       "        vertical-align: middle;\n",
       "    }\n",
       "\n",
       "    .dataframe tbody tr th {\n",
       "        vertical-align: top;\n",
       "    }\n",
       "\n",
       "    .dataframe thead th {\n",
       "        text-align: right;\n",
       "    }\n",
       "</style>\n",
       "<table border=\"1\" class=\"dataframe\">\n",
       "  <thead>\n",
       "    <tr style=\"text-align: right;\">\n",
       "      <th></th>\n",
       "      <th>MONTH</th>\n",
       "      <th>TSLA_WEB_SEARCH</th>\n",
       "      <th>TSLA_USD_CLOSE</th>\n",
       "    </tr>\n",
       "  </thead>\n",
       "  <tbody>\n",
       "    <tr>\n",
       "      <th>123</th>\n",
       "      <td>2020-09-01</td>\n",
       "      <td>31</td>\n",
       "      <td>407.339996</td>\n",
       "    </tr>\n",
       "  </tbody>\n",
       "</table>\n",
       "</div>"
      ],
      "text/plain": [
       "          MONTH  TSLA_WEB_SEARCH  TSLA_USD_CLOSE\n",
       "123  2020-09-01               31      407.339996"
      ]
     },
     "execution_count": 11,
     "metadata": {},
     "output_type": "execute_result"
    }
   ],
   "source": [
    "df_tesla.nlargest(1,'TSLA_WEB_SEARCH')"
   ]
  },
  {
   "cell_type": "code",
   "execution_count": 18,
   "metadata": {},
   "outputs": [],
   "source": [
    "largest_tes = df_tesla.nlargest(1,'TSLA_WEB_SEARCH')['TSLA_WEB_SEARCH'].iloc[0]\n",
    "smallest_tes = df_tesla.nsmallest(1,'TSLA_WEB_SEARCH')['TSLA_WEB_SEARCH'].iloc[0]"
   ]
  },
  {
   "cell_type": "code",
   "execution_count": 19,
   "metadata": {},
   "outputs": [
    {
     "name": "stdout",
     "output_type": "stream",
     "text": [
      "Largest value for Tesla in Web Search: 31\n",
      "Smallest value for Tesla in Web Search: 2\n"
     ]
    }
   ],
   "source": [
    "print(f'Largest value for Tesla in Web Search: {largest_tes}')\n",
    "print(f'Smallest value for Tesla in Web Search: {smallest_tes}')"
   ]
  },
  {
   "cell_type": "markdown",
   "metadata": {},
   "source": [
    "### Unemployment Data"
   ]
  },
  {
   "cell_type": "code",
   "execution_count": 20,
   "metadata": {},
   "outputs": [
    {
     "data": {
      "text/html": [
       "<div>\n",
       "<style scoped>\n",
       "    .dataframe tbody tr th:only-of-type {\n",
       "        vertical-align: middle;\n",
       "    }\n",
       "\n",
       "    .dataframe tbody tr th {\n",
       "        vertical-align: top;\n",
       "    }\n",
       "\n",
       "    .dataframe thead th {\n",
       "        text-align: right;\n",
       "    }\n",
       "</style>\n",
       "<table border=\"1\" class=\"dataframe\">\n",
       "  <thead>\n",
       "    <tr style=\"text-align: right;\">\n",
       "      <th></th>\n",
       "      <th>MONTH</th>\n",
       "      <th>UE_BENEFITS_WEB_SEARCH</th>\n",
       "      <th>UNRATE</th>\n",
       "    </tr>\n",
       "  </thead>\n",
       "  <tbody>\n",
       "    <tr>\n",
       "      <th>0</th>\n",
       "      <td>2004-01</td>\n",
       "      <td>34</td>\n",
       "      <td>5.7</td>\n",
       "    </tr>\n",
       "    <tr>\n",
       "      <th>1</th>\n",
       "      <td>2004-02</td>\n",
       "      <td>33</td>\n",
       "      <td>5.6</td>\n",
       "    </tr>\n",
       "    <tr>\n",
       "      <th>2</th>\n",
       "      <td>2004-03</td>\n",
       "      <td>25</td>\n",
       "      <td>5.8</td>\n",
       "    </tr>\n",
       "    <tr>\n",
       "      <th>3</th>\n",
       "      <td>2004-04</td>\n",
       "      <td>29</td>\n",
       "      <td>5.6</td>\n",
       "    </tr>\n",
       "    <tr>\n",
       "      <th>4</th>\n",
       "      <td>2004-05</td>\n",
       "      <td>23</td>\n",
       "      <td>5.6</td>\n",
       "    </tr>\n",
       "  </tbody>\n",
       "</table>\n",
       "</div>"
      ],
      "text/plain": [
       "     MONTH  UE_BENEFITS_WEB_SEARCH  UNRATE\n",
       "0  2004-01                      34     5.7\n",
       "1  2004-02                      33     5.6\n",
       "2  2004-03                      25     5.8\n",
       "3  2004-04                      29     5.6\n",
       "4  2004-05                      23     5.6"
      ]
     },
     "execution_count": 20,
     "metadata": {},
     "output_type": "execute_result"
    }
   ],
   "source": [
    "df_unemployment.head()"
   ]
  },
  {
   "cell_type": "code",
   "execution_count": 21,
   "metadata": {},
   "outputs": [
    {
     "data": {
      "text/plain": [
       "(181, 3)"
      ]
     },
     "execution_count": 21,
     "metadata": {},
     "output_type": "execute_result"
    }
   ],
   "source": [
    "df_unemployment.shape"
   ]
  },
  {
   "cell_type": "code",
   "execution_count": 22,
   "metadata": {},
   "outputs": [
    {
     "data": {
      "text/plain": [
       "Index(['MONTH', 'UE_BENEFITS_WEB_SEARCH', 'UNRATE'], dtype='object')"
      ]
     },
     "execution_count": 22,
     "metadata": {},
     "output_type": "execute_result"
    }
   ],
   "source": [
    "df_unemployment.columns"
   ]
  },
  {
   "cell_type": "code",
   "execution_count": 23,
   "metadata": {},
   "outputs": [
    {
     "data": {
      "text/html": [
       "<div>\n",
       "<style scoped>\n",
       "    .dataframe tbody tr th:only-of-type {\n",
       "        vertical-align: middle;\n",
       "    }\n",
       "\n",
       "    .dataframe tbody tr th {\n",
       "        vertical-align: top;\n",
       "    }\n",
       "\n",
       "    .dataframe thead th {\n",
       "        text-align: right;\n",
       "    }\n",
       "</style>\n",
       "<table border=\"1\" class=\"dataframe\">\n",
       "  <thead>\n",
       "    <tr style=\"text-align: right;\">\n",
       "      <th></th>\n",
       "      <th>MONTH</th>\n",
       "      <th>UE_BENEFITS_WEB_SEARCH</th>\n",
       "      <th>UNRATE</th>\n",
       "    </tr>\n",
       "  </thead>\n",
       "  <tbody>\n",
       "    <tr>\n",
       "      <th>61</th>\n",
       "      <td>2009-02</td>\n",
       "      <td>100</td>\n",
       "      <td>8.3</td>\n",
       "    </tr>\n",
       "  </tbody>\n",
       "</table>\n",
       "</div>"
      ],
      "text/plain": [
       "      MONTH  UE_BENEFITS_WEB_SEARCH  UNRATE\n",
       "61  2009-02                     100     8.3"
      ]
     },
     "execution_count": 23,
     "metadata": {},
     "output_type": "execute_result"
    }
   ],
   "source": [
    "df_unemployment.nlargest(1,'UE_BENEFITS_WEB_SEARCH')"
   ]
  },
  {
   "cell_type": "code",
   "execution_count": 26,
   "metadata": {},
   "outputs": [],
   "source": [
    "highest_unemp = df_unemployment.nlargest(1,'UE_BENEFITS_WEB_SEARCH')['UE_BENEFITS_WEB_SEARCH'].iloc[0]"
   ]
  },
  {
   "cell_type": "code",
   "execution_count": 27,
   "metadata": {},
   "outputs": [
    {
     "name": "stdout",
     "output_type": "stream",
     "text": [
      "Largest value for \"Unemployemnt Benefits\" in Web Search: 100\n"
     ]
    }
   ],
   "source": [
    "print('Largest value for \"Unemployemnt Benefits\" '\n",
    "      f'in Web Search: {highest_unemp}')"
   ]
  },
  {
   "cell_type": "markdown",
   "metadata": {},
   "source": [
    "### Bitcoin"
   ]
  },
  {
   "cell_type": "code",
   "execution_count": 28,
   "metadata": {},
   "outputs": [
    {
     "data": {
      "text/html": [
       "<div>\n",
       "<style scoped>\n",
       "    .dataframe tbody tr th:only-of-type {\n",
       "        vertical-align: middle;\n",
       "    }\n",
       "\n",
       "    .dataframe tbody tr th {\n",
       "        vertical-align: top;\n",
       "    }\n",
       "\n",
       "    .dataframe thead th {\n",
       "        text-align: right;\n",
       "    }\n",
       "</style>\n",
       "<table border=\"1\" class=\"dataframe\">\n",
       "  <thead>\n",
       "    <tr style=\"text-align: right;\">\n",
       "      <th></th>\n",
       "      <th>DATE</th>\n",
       "      <th>CLOSE</th>\n",
       "      <th>VOLUME</th>\n",
       "    </tr>\n",
       "  </thead>\n",
       "  <tbody>\n",
       "    <tr>\n",
       "      <th>0</th>\n",
       "      <td>2014-09-17</td>\n",
       "      <td>457.334015</td>\n",
       "      <td>21056800.0</td>\n",
       "    </tr>\n",
       "    <tr>\n",
       "      <th>1</th>\n",
       "      <td>2014-09-18</td>\n",
       "      <td>424.440002</td>\n",
       "      <td>34483200.0</td>\n",
       "    </tr>\n",
       "    <tr>\n",
       "      <th>2</th>\n",
       "      <td>2014-09-19</td>\n",
       "      <td>394.795990</td>\n",
       "      <td>37919700.0</td>\n",
       "    </tr>\n",
       "    <tr>\n",
       "      <th>3</th>\n",
       "      <td>2014-09-20</td>\n",
       "      <td>408.903992</td>\n",
       "      <td>36863600.0</td>\n",
       "    </tr>\n",
       "    <tr>\n",
       "      <th>4</th>\n",
       "      <td>2014-09-21</td>\n",
       "      <td>398.821014</td>\n",
       "      <td>26580100.0</td>\n",
       "    </tr>\n",
       "  </tbody>\n",
       "</table>\n",
       "</div>"
      ],
      "text/plain": [
       "         DATE       CLOSE      VOLUME\n",
       "0  2014-09-17  457.334015  21056800.0\n",
       "1  2014-09-18  424.440002  34483200.0\n",
       "2  2014-09-19  394.795990  37919700.0\n",
       "3  2014-09-20  408.903992  36863600.0\n",
       "4  2014-09-21  398.821014  26580100.0"
      ]
     },
     "execution_count": 28,
     "metadata": {},
     "output_type": "execute_result"
    }
   ],
   "source": [
    "df_btc_price.head()"
   ]
  },
  {
   "cell_type": "code",
   "execution_count": 32,
   "metadata": {},
   "outputs": [
    {
     "data": {
      "text/plain": [
       "(2204, 3)"
      ]
     },
     "execution_count": 32,
     "metadata": {},
     "output_type": "execute_result"
    }
   ],
   "source": [
    "df_btc_price.shape"
   ]
  },
  {
   "cell_type": "code",
   "execution_count": 29,
   "metadata": {},
   "outputs": [
    {
     "data": {
      "text/html": [
       "<div>\n",
       "<style scoped>\n",
       "    .dataframe tbody tr th:only-of-type {\n",
       "        vertical-align: middle;\n",
       "    }\n",
       "\n",
       "    .dataframe tbody tr th {\n",
       "        vertical-align: top;\n",
       "    }\n",
       "\n",
       "    .dataframe thead th {\n",
       "        text-align: right;\n",
       "    }\n",
       "</style>\n",
       "<table border=\"1\" class=\"dataframe\">\n",
       "  <thead>\n",
       "    <tr style=\"text-align: right;\">\n",
       "      <th></th>\n",
       "      <th>MONTH</th>\n",
       "      <th>BTC_NEWS_SEARCH</th>\n",
       "    </tr>\n",
       "  </thead>\n",
       "  <tbody>\n",
       "    <tr>\n",
       "      <th>0</th>\n",
       "      <td>2014-09</td>\n",
       "      <td>5</td>\n",
       "    </tr>\n",
       "    <tr>\n",
       "      <th>1</th>\n",
       "      <td>2014-10</td>\n",
       "      <td>4</td>\n",
       "    </tr>\n",
       "    <tr>\n",
       "      <th>2</th>\n",
       "      <td>2014-11</td>\n",
       "      <td>4</td>\n",
       "    </tr>\n",
       "    <tr>\n",
       "      <th>3</th>\n",
       "      <td>2014-12</td>\n",
       "      <td>4</td>\n",
       "    </tr>\n",
       "    <tr>\n",
       "      <th>4</th>\n",
       "      <td>2015-01</td>\n",
       "      <td>5</td>\n",
       "    </tr>\n",
       "  </tbody>\n",
       "</table>\n",
       "</div>"
      ],
      "text/plain": [
       "     MONTH  BTC_NEWS_SEARCH\n",
       "0  2014-09                5\n",
       "1  2014-10                4\n",
       "2  2014-11                4\n",
       "3  2014-12                4\n",
       "4  2015-01                5"
      ]
     },
     "execution_count": 29,
     "metadata": {},
     "output_type": "execute_result"
    }
   ],
   "source": [
    "df_btc_search.head()"
   ]
  },
  {
   "cell_type": "code",
   "execution_count": 33,
   "metadata": {},
   "outputs": [
    {
     "data": {
      "text/plain": [
       "(73, 2)"
      ]
     },
     "execution_count": 33,
     "metadata": {},
     "output_type": "execute_result"
    }
   ],
   "source": [
    "df_btc_search.shape"
   ]
  },
  {
   "cell_type": "code",
   "execution_count": 34,
   "metadata": {},
   "outputs": [
    {
     "data": {
      "text/html": [
       "<div>\n",
       "<style scoped>\n",
       "    .dataframe tbody tr th:only-of-type {\n",
       "        vertical-align: middle;\n",
       "    }\n",
       "\n",
       "    .dataframe tbody tr th {\n",
       "        vertical-align: top;\n",
       "    }\n",
       "\n",
       "    .dataframe thead th {\n",
       "        text-align: right;\n",
       "    }\n",
       "</style>\n",
       "<table border=\"1\" class=\"dataframe\">\n",
       "  <thead>\n",
       "    <tr style=\"text-align: right;\">\n",
       "      <th></th>\n",
       "      <th>MONTH</th>\n",
       "      <th>BTC_NEWS_SEARCH</th>\n",
       "    </tr>\n",
       "  </thead>\n",
       "  <tbody>\n",
       "    <tr>\n",
       "      <th>39</th>\n",
       "      <td>2017-12</td>\n",
       "      <td>100</td>\n",
       "    </tr>\n",
       "  </tbody>\n",
       "</table>\n",
       "</div>"
      ],
      "text/plain": [
       "      MONTH  BTC_NEWS_SEARCH\n",
       "39  2017-12              100"
      ]
     },
     "execution_count": 34,
     "metadata": {},
     "output_type": "execute_result"
    }
   ],
   "source": [
    "# Largest BTC news search\n",
    "df_btc_search.nlargest(1,'BTC_NEWS_SEARCH')"
   ]
  },
  {
   "cell_type": "code",
   "execution_count": 35,
   "metadata": {},
   "outputs": [],
   "source": [
    "largest_btc = df_btc_search.nlargest(1,'BTC_NEWS_SEARCH')['BTC_NEWS_SEARCH'].iloc[0]"
   ]
  },
  {
   "cell_type": "code",
   "execution_count": 36,
   "metadata": {},
   "outputs": [
    {
     "name": "stdout",
     "output_type": "stream",
     "text": [
      "largest BTC News Search: 100\n"
     ]
    }
   ],
   "source": [
    "print(f'largest BTC News Search: {largest_btc}')"
   ]
  },
  {
   "cell_type": "markdown",
   "metadata": {},
   "source": [
    "# Data Cleaning"
   ]
  },
  {
   "cell_type": "markdown",
   "metadata": {},
   "source": [
    "### Check for Missing Values"
   ]
  },
  {
   "cell_type": "markdown",
   "metadata": {},
   "source": [
    "**Challenge**: Are there any missing values in any of the dataframes? If so, which row/rows have missing values? How many missing values are there?"
   ]
  },
  {
   "cell_type": "code",
   "execution_count": 61,
   "metadata": {},
   "outputs": [
    {
     "data": {
      "text/plain": [
       "False"
      ]
     },
     "execution_count": 61,
     "metadata": {},
     "output_type": "execute_result"
    }
   ],
   "source": [
    "df_tesla.isna().values.any()"
   ]
  },
  {
   "cell_type": "code",
   "execution_count": 62,
   "metadata": {},
   "outputs": [
    {
     "data": {
      "text/plain": [
       "False"
      ]
     },
     "execution_count": 62,
     "metadata": {},
     "output_type": "execute_result"
    }
   ],
   "source": [
    "df_unemployment.isna().values.any()"
   ]
  },
  {
   "cell_type": "code",
   "execution_count": 63,
   "metadata": {},
   "outputs": [
    {
     "data": {
      "text/plain": [
       "False"
      ]
     },
     "execution_count": 63,
     "metadata": {},
     "output_type": "execute_result"
    }
   ],
   "source": [
    "df_btc_search.isna().values.any()"
   ]
  },
  {
   "cell_type": "code",
   "execution_count": 69,
   "metadata": {},
   "outputs": [
    {
     "data": {
      "text/plain": [
       "True"
      ]
     },
     "execution_count": 69,
     "metadata": {},
     "output_type": "execute_result"
    }
   ],
   "source": [
    "# Only one missing values is BITCOIN PRICE\n",
    "df_btc_price.isna().values.any()"
   ]
  },
  {
   "cell_type": "code",
   "execution_count": 71,
   "metadata": {},
   "outputs": [
    {
     "data": {
      "text/plain": [
       "2"
      ]
     },
     "execution_count": 71,
     "metadata": {},
     "output_type": "execute_result"
    }
   ],
   "source": [
    "# Two missing values\n",
    "df_btc_price.isna().values.sum()"
   ]
  },
  {
   "cell_type": "code",
   "execution_count": 80,
   "metadata": {},
   "outputs": [
    {
     "data": {
      "text/html": [
       "<div>\n",
       "<style scoped>\n",
       "    .dataframe tbody tr th:only-of-type {\n",
       "        vertical-align: middle;\n",
       "    }\n",
       "\n",
       "    .dataframe tbody tr th {\n",
       "        vertical-align: top;\n",
       "    }\n",
       "\n",
       "    .dataframe thead th {\n",
       "        text-align: right;\n",
       "    }\n",
       "</style>\n",
       "<table border=\"1\" class=\"dataframe\">\n",
       "  <thead>\n",
       "    <tr style=\"text-align: right;\">\n",
       "      <th></th>\n",
       "      <th>DATE</th>\n",
       "      <th>CLOSE</th>\n",
       "      <th>VOLUME</th>\n",
       "    </tr>\n",
       "  </thead>\n",
       "  <tbody>\n",
       "    <tr>\n",
       "      <th>2148</th>\n",
       "      <td>2020-08-04</td>\n",
       "      <td>NaN</td>\n",
       "      <td>NaN</td>\n",
       "    </tr>\n",
       "  </tbody>\n",
       "</table>\n",
       "</div>"
      ],
      "text/plain": [
       "            DATE  CLOSE  VOLUME\n",
       "2148  2020-08-04    NaN     NaN"
      ]
     },
     "execution_count": 80,
     "metadata": {},
     "output_type": "execute_result"
    }
   ],
   "source": [
    "# Finding where\n",
    "df_btc_price[df_btc_price['CLOSE'].isna()]"
   ]
  },
  {
   "cell_type": "code",
   "execution_count": 7,
   "metadata": {},
   "outputs": [
    {
     "name": "stdout",
     "output_type": "stream",
     "text": [
      "Missing values for Tesla?: \n",
      "Missing values for U/E?: \n",
      "Missing values for BTC Search?: \n"
     ]
    }
   ],
   "source": [
    "print(f'Missing values for Tesla?: {df_tesla.isna().values.any()}')\n",
    "print(f'Missing values for U/E?: {df_unemployment.isna().values.any()}')\n",
    "print(f'Missing values for BTC Search?: {df_btc_search.isna().values.any()}')"
   ]
  },
  {
   "cell_type": "code",
   "execution_count": 8,
   "metadata": {},
   "outputs": [
    {
     "name": "stdout",
     "output_type": "stream",
     "text": [
      "Missing values for BTC price?: \n"
     ]
    }
   ],
   "source": [
    "print(f'Missing values for BTC price?: {df_btc_price.isna().values.any()}')"
   ]
  },
  {
   "cell_type": "code",
   "execution_count": 5,
   "metadata": {},
   "outputs": [
    {
     "name": "stdout",
     "output_type": "stream",
     "text": [
      "Number of missing values: \n"
     ]
    }
   ],
   "source": [
    "print(f'Number of missing values: {df_btc_price.isna().values.sum()}')"
   ]
  },
  {
   "cell_type": "markdown",
   "metadata": {},
   "source": [
    "**Challenge**: Remove any missing values that you found. "
   ]
  },
  {
   "cell_type": "code",
   "execution_count": 83,
   "metadata": {},
   "outputs": [],
   "source": [
    "# To remove we can just use dropna() \n",
    "df_btc_price = df_btc_price.dropna()"
   ]
  },
  {
   "cell_type": "code",
   "execution_count": 84,
   "metadata": {},
   "outputs": [
    {
     "data": {
      "text/plain": [
       "(2203, 3)"
      ]
     },
     "execution_count": 84,
     "metadata": {},
     "output_type": "execute_result"
    }
   ],
   "source": [
    "# to check worked originally we had 2204 rows\n",
    "df_btc_price.dropna().shape"
   ]
  },
  {
   "cell_type": "markdown",
   "metadata": {},
   "source": [
    "### Convert Strings to DateTime Objects"
   ]
  },
  {
   "cell_type": "markdown",
   "metadata": {},
   "source": [
    "**Challenge**: Check the data type of the entries in the DataFrame MONTH or DATE columns. Convert any strings in to Datetime objects. Do this for all 4 DataFrames. Double check if your type conversion was successful."
   ]
  },
  {
   "cell_type": "markdown",
   "metadata": {},
   "source": [
    "## 1. TESLA"
   ]
  },
  {
   "cell_type": "code",
   "execution_count": 88,
   "metadata": {},
   "outputs": [
    {
     "data": {
      "text/plain": [
       "str"
      ]
     },
     "execution_count": 88,
     "metadata": {},
     "output_type": "execute_result"
    }
   ],
   "source": [
    "# Check TESLA\n",
    "type(df_tesla['MONTH'].iloc[0])"
   ]
  },
  {
   "cell_type": "code",
   "execution_count": 90,
   "metadata": {},
   "outputs": [
    {
     "data": {
      "text/plain": [
       "'2010-06-01'"
      ]
     },
     "execution_count": 90,
     "metadata": {},
     "output_type": "execute_result"
    }
   ],
   "source": [
    "df_tesla['MONTH'].iloc[0]"
   ]
  },
  {
   "cell_type": "code",
   "execution_count": 89,
   "metadata": {},
   "outputs": [
    {
     "data": {
      "text/plain": [
       "Timestamp('2010-06-01 00:00:00')"
      ]
     },
     "execution_count": 89,
     "metadata": {},
     "output_type": "execute_result"
    }
   ],
   "source": [
    "# As its a string we need to convert using the pd.to_datetime()\n",
    "pd.to_datetime(df_tesla['MONTH'].iloc[0])"
   ]
  },
  {
   "cell_type": "code",
   "execution_count": 93,
   "metadata": {},
   "outputs": [],
   "source": [
    "# Now we need to do it to all values!\n",
    "df_tesla['MONTH'] = pd.to_datetime(df_tesla['MONTH'])"
   ]
  },
  {
   "cell_type": "code",
   "execution_count": 94,
   "metadata": {},
   "outputs": [
    {
     "data": {
      "text/plain": [
       "pandas._libs.tslibs.timestamps.Timestamp"
      ]
     },
     "execution_count": 94,
     "metadata": {},
     "output_type": "execute_result"
    }
   ],
   "source": [
    "# Check success\n",
    "type(df_tesla['MONTH'].iloc[0])"
   ]
  },
  {
   "cell_type": "markdown",
   "metadata": {},
   "source": [
    "## 2. UNEMPLOYMENT"
   ]
  },
  {
   "cell_type": "code",
   "execution_count": 95,
   "metadata": {},
   "outputs": [
    {
     "data": {
      "text/html": [
       "<div>\n",
       "<style scoped>\n",
       "    .dataframe tbody tr th:only-of-type {\n",
       "        vertical-align: middle;\n",
       "    }\n",
       "\n",
       "    .dataframe tbody tr th {\n",
       "        vertical-align: top;\n",
       "    }\n",
       "\n",
       "    .dataframe thead th {\n",
       "        text-align: right;\n",
       "    }\n",
       "</style>\n",
       "<table border=\"1\" class=\"dataframe\">\n",
       "  <thead>\n",
       "    <tr style=\"text-align: right;\">\n",
       "      <th></th>\n",
       "      <th>MONTH</th>\n",
       "      <th>UE_BENEFITS_WEB_SEARCH</th>\n",
       "      <th>UNRATE</th>\n",
       "    </tr>\n",
       "  </thead>\n",
       "  <tbody>\n",
       "    <tr>\n",
       "      <th>0</th>\n",
       "      <td>2004-01</td>\n",
       "      <td>34</td>\n",
       "      <td>5.7</td>\n",
       "    </tr>\n",
       "    <tr>\n",
       "      <th>1</th>\n",
       "      <td>2004-02</td>\n",
       "      <td>33</td>\n",
       "      <td>5.6</td>\n",
       "    </tr>\n",
       "    <tr>\n",
       "      <th>2</th>\n",
       "      <td>2004-03</td>\n",
       "      <td>25</td>\n",
       "      <td>5.8</td>\n",
       "    </tr>\n",
       "    <tr>\n",
       "      <th>3</th>\n",
       "      <td>2004-04</td>\n",
       "      <td>29</td>\n",
       "      <td>5.6</td>\n",
       "    </tr>\n",
       "    <tr>\n",
       "      <th>4</th>\n",
       "      <td>2004-05</td>\n",
       "      <td>23</td>\n",
       "      <td>5.6</td>\n",
       "    </tr>\n",
       "  </tbody>\n",
       "</table>\n",
       "</div>"
      ],
      "text/plain": [
       "     MONTH  UE_BENEFITS_WEB_SEARCH  UNRATE\n",
       "0  2004-01                      34     5.7\n",
       "1  2004-02                      33     5.6\n",
       "2  2004-03                      25     5.8\n",
       "3  2004-04                      29     5.6\n",
       "4  2004-05                      23     5.6"
      ]
     },
     "execution_count": 95,
     "metadata": {},
     "output_type": "execute_result"
    }
   ],
   "source": [
    "df_unemployment.head()"
   ]
  },
  {
   "cell_type": "code",
   "execution_count": 98,
   "metadata": {},
   "outputs": [
    {
     "data": {
      "text/plain": [
       "str"
      ]
     },
     "execution_count": 98,
     "metadata": {},
     "output_type": "execute_result"
    }
   ],
   "source": [
    "# Check UNEMPLOYMENT\n",
    "type(df_unemployment['MONTH'].iloc[0])"
   ]
  },
  {
   "cell_type": "code",
   "execution_count": 99,
   "metadata": {},
   "outputs": [],
   "source": [
    "# Now we need to do it to all values!\n",
    "df_unemployment['MONTH'] = pd.to_datetime(df_unemployment['MONTH'])"
   ]
  },
  {
   "cell_type": "code",
   "execution_count": 100,
   "metadata": {},
   "outputs": [
    {
     "data": {
      "text/plain": [
       "pandas._libs.tslibs.timestamps.Timestamp"
      ]
     },
     "execution_count": 100,
     "metadata": {},
     "output_type": "execute_result"
    }
   ],
   "source": [
    "# Check success\n",
    "type(df_unemployment['MONTH'].iloc[0])"
   ]
  },
  {
   "cell_type": "markdown",
   "metadata": {},
   "source": [
    "## 2. BITCOIN"
   ]
  },
  {
   "cell_type": "markdown",
   "metadata": {},
   "source": [
    "### A) Pricing"
   ]
  },
  {
   "cell_type": "code",
   "execution_count": 108,
   "metadata": {},
   "outputs": [
    {
     "data": {
      "text/html": [
       "<div>\n",
       "<style scoped>\n",
       "    .dataframe tbody tr th:only-of-type {\n",
       "        vertical-align: middle;\n",
       "    }\n",
       "\n",
       "    .dataframe tbody tr th {\n",
       "        vertical-align: top;\n",
       "    }\n",
       "\n",
       "    .dataframe thead th {\n",
       "        text-align: right;\n",
       "    }\n",
       "</style>\n",
       "<table border=\"1\" class=\"dataframe\">\n",
       "  <thead>\n",
       "    <tr style=\"text-align: right;\">\n",
       "      <th></th>\n",
       "      <th>DATE</th>\n",
       "      <th>CLOSE</th>\n",
       "      <th>VOLUME</th>\n",
       "    </tr>\n",
       "  </thead>\n",
       "  <tbody>\n",
       "    <tr>\n",
       "      <th>0</th>\n",
       "      <td>2014-09-17</td>\n",
       "      <td>457.334015</td>\n",
       "      <td>21056800.0</td>\n",
       "    </tr>\n",
       "    <tr>\n",
       "      <th>1</th>\n",
       "      <td>2014-09-18</td>\n",
       "      <td>424.440002</td>\n",
       "      <td>34483200.0</td>\n",
       "    </tr>\n",
       "    <tr>\n",
       "      <th>2</th>\n",
       "      <td>2014-09-19</td>\n",
       "      <td>394.795990</td>\n",
       "      <td>37919700.0</td>\n",
       "    </tr>\n",
       "    <tr>\n",
       "      <th>3</th>\n",
       "      <td>2014-09-20</td>\n",
       "      <td>408.903992</td>\n",
       "      <td>36863600.0</td>\n",
       "    </tr>\n",
       "    <tr>\n",
       "      <th>4</th>\n",
       "      <td>2014-09-21</td>\n",
       "      <td>398.821014</td>\n",
       "      <td>26580100.0</td>\n",
       "    </tr>\n",
       "  </tbody>\n",
       "</table>\n",
       "</div>"
      ],
      "text/plain": [
       "        DATE       CLOSE      VOLUME\n",
       "0 2014-09-17  457.334015  21056800.0\n",
       "1 2014-09-18  424.440002  34483200.0\n",
       "2 2014-09-19  394.795990  37919700.0\n",
       "3 2014-09-20  408.903992  36863600.0\n",
       "4 2014-09-21  398.821014  26580100.0"
      ]
     },
     "execution_count": 108,
     "metadata": {},
     "output_type": "execute_result"
    }
   ],
   "source": [
    "df_btc_price.head()"
   ]
  },
  {
   "cell_type": "code",
   "execution_count": 109,
   "metadata": {},
   "outputs": [
    {
     "data": {
      "text/plain": [
       "pandas._libs.tslibs.timestamps.Timestamp"
      ]
     },
     "execution_count": 109,
     "metadata": {},
     "output_type": "execute_result"
    }
   ],
   "source": [
    "# Check Type\n",
    "type(df_btc_price['DATE'].iloc[0])"
   ]
  },
  {
   "cell_type": "code",
   "execution_count": 110,
   "metadata": {},
   "outputs": [],
   "source": [
    "# Convert to Datetime\n",
    "df_btc_price['DATE'] = pd.to_datetime(df_btc_price['DATE'])"
   ]
  },
  {
   "cell_type": "code",
   "execution_count": 111,
   "metadata": {},
   "outputs": [
    {
     "data": {
      "text/plain": [
       "pandas._libs.tslibs.timestamps.Timestamp"
      ]
     },
     "execution_count": 111,
     "metadata": {},
     "output_type": "execute_result"
    }
   ],
   "source": [
    "# Check Type changed\n",
    "type(df_btc_price['DATE'].iloc[0])"
   ]
  },
  {
   "cell_type": "markdown",
   "metadata": {},
   "source": [
    "### B) Search"
   ]
  },
  {
   "cell_type": "code",
   "execution_count": 112,
   "metadata": {},
   "outputs": [
    {
     "data": {
      "text/html": [
       "<div>\n",
       "<style scoped>\n",
       "    .dataframe tbody tr th:only-of-type {\n",
       "        vertical-align: middle;\n",
       "    }\n",
       "\n",
       "    .dataframe tbody tr th {\n",
       "        vertical-align: top;\n",
       "    }\n",
       "\n",
       "    .dataframe thead th {\n",
       "        text-align: right;\n",
       "    }\n",
       "</style>\n",
       "<table border=\"1\" class=\"dataframe\">\n",
       "  <thead>\n",
       "    <tr style=\"text-align: right;\">\n",
       "      <th></th>\n",
       "      <th>MONTH</th>\n",
       "      <th>BTC_NEWS_SEARCH</th>\n",
       "    </tr>\n",
       "  </thead>\n",
       "  <tbody>\n",
       "    <tr>\n",
       "      <th>0</th>\n",
       "      <td>2014-09</td>\n",
       "      <td>5</td>\n",
       "    </tr>\n",
       "    <tr>\n",
       "      <th>1</th>\n",
       "      <td>2014-10</td>\n",
       "      <td>4</td>\n",
       "    </tr>\n",
       "    <tr>\n",
       "      <th>2</th>\n",
       "      <td>2014-11</td>\n",
       "      <td>4</td>\n",
       "    </tr>\n",
       "    <tr>\n",
       "      <th>3</th>\n",
       "      <td>2014-12</td>\n",
       "      <td>4</td>\n",
       "    </tr>\n",
       "    <tr>\n",
       "      <th>4</th>\n",
       "      <td>2015-01</td>\n",
       "      <td>5</td>\n",
       "    </tr>\n",
       "  </tbody>\n",
       "</table>\n",
       "</div>"
      ],
      "text/plain": [
       "     MONTH  BTC_NEWS_SEARCH\n",
       "0  2014-09                5\n",
       "1  2014-10                4\n",
       "2  2014-11                4\n",
       "3  2014-12                4\n",
       "4  2015-01                5"
      ]
     },
     "execution_count": 112,
     "metadata": {},
     "output_type": "execute_result"
    }
   ],
   "source": [
    "df_btc_search.head()"
   ]
  },
  {
   "cell_type": "code",
   "execution_count": 113,
   "metadata": {},
   "outputs": [
    {
     "data": {
      "text/plain": [
       "str"
      ]
     },
     "execution_count": 113,
     "metadata": {},
     "output_type": "execute_result"
    }
   ],
   "source": [
    "# Check Type\n",
    "type(df_btc_search['MONTH'].iloc[0])"
   ]
  },
  {
   "cell_type": "code",
   "execution_count": 114,
   "metadata": {},
   "outputs": [],
   "source": [
    "# Convert to Datetime\n",
    "df_btc_search['MONTH'] = pd.to_datetime(df_btc_search['MONTH'])"
   ]
  },
  {
   "cell_type": "code",
   "execution_count": 119,
   "metadata": {},
   "outputs": [
    {
     "data": {
      "text/plain": [
       "0    2014-09-01\n",
       "1    2014-10-01\n",
       "2    2014-11-01\n",
       "3    2014-12-01\n",
       "4    2015-01-01\n",
       "        ...    \n",
       "68   2020-05-01\n",
       "69   2020-06-01\n",
       "70   2020-07-01\n",
       "71   2020-08-01\n",
       "72   2020-09-01\n",
       "Name: MONTH, Length: 73, dtype: datetime64[ns]"
      ]
     },
     "execution_count": 119,
     "metadata": {},
     "output_type": "execute_result"
    }
   ],
   "source": [
    "# Check Type changed\n",
    "df_btc_search['MONTH']"
   ]
  },
  {
   "cell_type": "markdown",
   "metadata": {},
   "source": [
    "### Converting from Daily to Monthly Data\n",
    "\n",
    "[Pandas .resample() documentation](https://pandas.pydata.org/pandas-docs/stable/reference/api/pandas.DataFrame.resample.html) <br>"
   ]
  },
  {
   "cell_type": "code",
   "execution_count": 128,
   "metadata": {},
   "outputs": [
    {
     "data": {
      "text/html": [
       "<div>\n",
       "<style scoped>\n",
       "    .dataframe tbody tr th:only-of-type {\n",
       "        vertical-align: middle;\n",
       "    }\n",
       "\n",
       "    .dataframe tbody tr th {\n",
       "        vertical-align: top;\n",
       "    }\n",
       "\n",
       "    .dataframe thead th {\n",
       "        text-align: right;\n",
       "    }\n",
       "</style>\n",
       "<table border=\"1\" class=\"dataframe\">\n",
       "  <thead>\n",
       "    <tr style=\"text-align: right;\">\n",
       "      <th></th>\n",
       "      <th>DATE</th>\n",
       "      <th>CLOSE</th>\n",
       "      <th>VOLUME</th>\n",
       "    </tr>\n",
       "  </thead>\n",
       "  <tbody>\n",
       "    <tr>\n",
       "      <th>0</th>\n",
       "      <td>2014-09-17</td>\n",
       "      <td>457.334015</td>\n",
       "      <td>21056800.0</td>\n",
       "    </tr>\n",
       "    <tr>\n",
       "      <th>1</th>\n",
       "      <td>2014-09-18</td>\n",
       "      <td>424.440002</td>\n",
       "      <td>34483200.0</td>\n",
       "    </tr>\n",
       "    <tr>\n",
       "      <th>2</th>\n",
       "      <td>2014-09-19</td>\n",
       "      <td>394.795990</td>\n",
       "      <td>37919700.0</td>\n",
       "    </tr>\n",
       "    <tr>\n",
       "      <th>3</th>\n",
       "      <td>2014-09-20</td>\n",
       "      <td>408.903992</td>\n",
       "      <td>36863600.0</td>\n",
       "    </tr>\n",
       "    <tr>\n",
       "      <th>4</th>\n",
       "      <td>2014-09-21</td>\n",
       "      <td>398.821014</td>\n",
       "      <td>26580100.0</td>\n",
       "    </tr>\n",
       "  </tbody>\n",
       "</table>\n",
       "</div>"
      ],
      "text/plain": [
       "        DATE       CLOSE      VOLUME\n",
       "0 2014-09-17  457.334015  21056800.0\n",
       "1 2014-09-18  424.440002  34483200.0\n",
       "2 2014-09-19  394.795990  37919700.0\n",
       "3 2014-09-20  408.903992  36863600.0\n",
       "4 2014-09-21  398.821014  26580100.0"
      ]
     },
     "execution_count": 128,
     "metadata": {},
     "output_type": "execute_result"
    }
   ],
   "source": [
    "df_btc_price.head()"
   ]
  },
  {
   "cell_type": "code",
   "execution_count": 132,
   "metadata": {},
   "outputs": [
    {
     "data": {
      "text/html": [
       "<div>\n",
       "<style scoped>\n",
       "    .dataframe tbody tr th:only-of-type {\n",
       "        vertical-align: middle;\n",
       "    }\n",
       "\n",
       "    .dataframe tbody tr th {\n",
       "        vertical-align: top;\n",
       "    }\n",
       "\n",
       "    .dataframe thead th {\n",
       "        text-align: right;\n",
       "    }\n",
       "</style>\n",
       "<table border=\"1\" class=\"dataframe\">\n",
       "  <thead>\n",
       "    <tr style=\"text-align: right;\">\n",
       "      <th></th>\n",
       "      <th>DATE</th>\n",
       "      <th>CLOSE</th>\n",
       "      <th>VOLUME</th>\n",
       "    </tr>\n",
       "    <tr>\n",
       "      <th>DATE</th>\n",
       "      <th></th>\n",
       "      <th></th>\n",
       "      <th></th>\n",
       "    </tr>\n",
       "  </thead>\n",
       "  <tbody>\n",
       "    <tr>\n",
       "      <th>2014-09-30</th>\n",
       "      <td>2014-09-30</td>\n",
       "      <td>386.944000</td>\n",
       "      <td>3.470730e+07</td>\n",
       "    </tr>\n",
       "    <tr>\n",
       "      <th>2014-10-31</th>\n",
       "      <td>2014-10-31</td>\n",
       "      <td>338.321014</td>\n",
       "      <td>1.254540e+07</td>\n",
       "    </tr>\n",
       "    <tr>\n",
       "      <th>2014-11-30</th>\n",
       "      <td>2014-11-30</td>\n",
       "      <td>378.046997</td>\n",
       "      <td>9.194440e+06</td>\n",
       "    </tr>\n",
       "    <tr>\n",
       "      <th>2014-12-31</th>\n",
       "      <td>2014-12-31</td>\n",
       "      <td>320.192993</td>\n",
       "      <td>1.394290e+07</td>\n",
       "    </tr>\n",
       "    <tr>\n",
       "      <th>2015-01-31</th>\n",
       "      <td>2015-01-31</td>\n",
       "      <td>217.464005</td>\n",
       "      <td>2.334820e+07</td>\n",
       "    </tr>\n",
       "    <tr>\n",
       "      <th>...</th>\n",
       "      <td>...</td>\n",
       "      <td>...</td>\n",
       "      <td>...</td>\n",
       "    </tr>\n",
       "    <tr>\n",
       "      <th>2020-05-31</th>\n",
       "      <td>2020-05-31</td>\n",
       "      <td>9461.058594</td>\n",
       "      <td>2.777329e+10</td>\n",
       "    </tr>\n",
       "    <tr>\n",
       "      <th>2020-06-30</th>\n",
       "      <td>2020-06-30</td>\n",
       "      <td>9137.993164</td>\n",
       "      <td>1.573580e+10</td>\n",
       "    </tr>\n",
       "    <tr>\n",
       "      <th>2020-07-31</th>\n",
       "      <td>2020-07-31</td>\n",
       "      <td>11323.466797</td>\n",
       "      <td>2.316047e+10</td>\n",
       "    </tr>\n",
       "    <tr>\n",
       "      <th>2020-08-31</th>\n",
       "      <td>2020-08-31</td>\n",
       "      <td>11680.820313</td>\n",
       "      <td>2.228593e+10</td>\n",
       "    </tr>\n",
       "    <tr>\n",
       "      <th>2020-09-30</th>\n",
       "      <td>2020-09-28</td>\n",
       "      <td>10912.536133</td>\n",
       "      <td>2.122653e+10</td>\n",
       "    </tr>\n",
       "  </tbody>\n",
       "</table>\n",
       "<p>73 rows × 3 columns</p>\n",
       "</div>"
      ],
      "text/plain": [
       "                 DATE         CLOSE        VOLUME\n",
       "DATE                                             \n",
       "2014-09-30 2014-09-30    386.944000  3.470730e+07\n",
       "2014-10-31 2014-10-31    338.321014  1.254540e+07\n",
       "2014-11-30 2014-11-30    378.046997  9.194440e+06\n",
       "2014-12-31 2014-12-31    320.192993  1.394290e+07\n",
       "2015-01-31 2015-01-31    217.464005  2.334820e+07\n",
       "...               ...           ...           ...\n",
       "2020-05-31 2020-05-31   9461.058594  2.777329e+10\n",
       "2020-06-30 2020-06-30   9137.993164  1.573580e+10\n",
       "2020-07-31 2020-07-31  11323.466797  2.316047e+10\n",
       "2020-08-31 2020-08-31  11680.820313  2.228593e+10\n",
       "2020-09-30 2020-09-28  10912.536133  2.122653e+10\n",
       "\n",
       "[73 rows x 3 columns]"
      ]
     },
     "execution_count": 132,
     "metadata": {},
     "output_type": "execute_result"
    }
   ],
   "source": [
    "# We need to try resampling first and see what it looks like\n",
    "# We take the last available price \n",
    "df_btc_price.resample('M', on='DATE').last()"
   ]
  },
  {
   "cell_type": "code",
   "execution_count": 135,
   "metadata": {},
   "outputs": [],
   "source": [
    "df_btc_price_monthly = df_btc_price.resample('M', on='DATE').last()"
   ]
  },
  {
   "cell_type": "code",
   "execution_count": 136,
   "metadata": {},
   "outputs": [
    {
     "data": {
      "text/plain": [
       "(73, 3)"
      ]
     },
     "execution_count": 136,
     "metadata": {},
     "output_type": "execute_result"
    }
   ],
   "source": [
    "df_btc_price_monthly.shape"
   ]
  },
  {
   "cell_type": "code",
   "execution_count": 140,
   "metadata": {},
   "outputs": [
    {
     "data": {
      "text/plain": [
       "Index(['DATE', 'CLOSE', 'VOLUME'], dtype='object')"
      ]
     },
     "execution_count": 140,
     "metadata": {},
     "output_type": "execute_result"
    }
   ],
   "source": [
    "df_btc_price_monthly.columns"
   ]
  },
  {
   "cell_type": "markdown",
   "metadata": {},
   "source": [
    "# Data Visualisation"
   ]
  },
  {
   "cell_type": "markdown",
   "metadata": {},
   "source": [
    "### Notebook Formatting & Style Helpers"
   ]
  },
  {
   "cell_type": "code",
   "execution_count": 22,
   "metadata": {},
   "outputs": [],
   "source": [
    "# Create locators for ticks on the time axis"
   ]
  },
  {
   "cell_type": "code",
   "execution_count": 21,
   "metadata": {},
   "outputs": [],
   "source": [
    "# Register date converters to avoid warning messages"
   ]
  },
  {
   "cell_type": "markdown",
   "metadata": {},
   "source": [
    "### Tesla Stock Price v.s. Search Volume"
   ]
  },
  {
   "cell_type": "markdown",
   "metadata": {},
   "source": [
    "**Challenge:** Plot the Tesla stock price against the Tesla search volume using a line chart and two different axes. Label one axis 'TSLA Stock Price' and the other 'Search Trend'. "
   ]
  },
  {
   "cell_type": "code",
   "execution_count": null,
   "metadata": {},
   "outputs": [],
   "source": [
    "\n"
   ]
  },
  {
   "cell_type": "markdown",
   "metadata": {},
   "source": [
    "**Challenge**: Make the chart larger and easier to read. \n",
    "1. Increase the figure size (e.g., to 14 by 8). \n",
    "2. Increase the font sizes for the labels and the ticks on the x-axis to 14. \n",
    "3. Rotate the text on the x-axis by 45 degrees. \n",
    "4. Make the lines on the chart thicker. \n",
    "5. Add a title that reads 'Tesla Web Search vs Price'\n",
    "6. Keep the chart looking sharp by changing the dots-per-inch or [DPI value](https://matplotlib.org/3.1.1/api/_as_gen/matplotlib.pyplot.figure.html). \n",
    "7. Set minimum and maximum values for the y and x axis. Hint: check out methods like [set_xlim()](https://matplotlib.org/3.1.1/api/_as_gen/matplotlib.axes.Axes.set_xlim.html). \n",
    "8. Finally use [plt.show()](https://matplotlib.org/3.2.1/api/_as_gen/matplotlib.pyplot.show.html) to display the chart below the cell instead of relying on the automatic notebook output."
   ]
  },
  {
   "cell_type": "code",
   "execution_count": 157,
   "metadata": {},
   "outputs": [
    {
     "data": {
      "image/png": "[encoded data removed]",
      "text/plain": [
       "<Figure size 1008x576 with 2 Axes>"
      ]
     },
     "metadata": {
      "needs_background": "light"
     },
     "output_type": "display_data"
    }
   ],
   "source": [
    "x_tesla = df_tesla['MONTH']\n",
    "# SEARCH VALUES\n",
    "y_tesla_search = df_tesla['TSLA_WEB_SEARCH']\n",
    "# PRICE VALUES\n",
    "y_tesla_price = df_tesla['TSLA_USD_CLOSE']\n",
    "\n",
    "fig_tesla, ax1 = plt.subplots(figsize=(14, 8))\n",
    "# Set the title\n",
    "ax1.set_title('Tesla Web Search and Stock Price')\n",
    "# X label\n",
    "ax1.set_xlabel('Date')\n",
    "# LHS for search\n",
    "ax1.set_ylabel('TESLA SEARCH', color=\"red\")\n",
    "ax1.plot(x_tesla, y_tesla_search, color=\"red\")\n",
    "ax1.tick_params(axis='y', labelcolor=\"red\")\n",
    "\n",
    "ax2 = ax1.twinx()  # instantiate a second axes that shares the same x-axis\n",
    "# RHS for stock price\n",
    "\n",
    "ax2.set_ylabel('STOCK PRICE', color=\"blue\")  # we already handled the x-label with ax1\n",
    "ax2.plot(x_tesla, y_tesla_price, color=\"blue\")\n",
    "ax2.tick_params(axis='y', labelcolor=\"blue\")\n",
    "\n",
    "# # Set the minimum and maximum values on the axes\n",
    "# ax1.set_ylim([0, 600])\n",
    "# ax1.set_xlim([df_tesla.MONTH.min(), df_tesla.MONTH.max()])\n",
    "\n",
    "fig_tesla.tight_layout()  # otherwise the right y-label is slightly clipped"
   ]
  },
  {
   "cell_type": "markdown",
   "metadata": {},
   "source": [
    "How to add tick formatting for dates on the x-axis. "
   ]
  },
  {
   "cell_type": "code",
   "execution_count": 162,
   "metadata": {},
   "outputs": [
    {
     "data": {
      "image/png": "[encoded data removed]",
      "text/plain": [
       "<Figure size 1008x576 with 2 Axes>"
      ]
     },
     "metadata": {
      "needs_background": "light"
     },
     "output_type": "display_data"
    }
   ],
   "source": [
    "# ------------ >> ADDED\n",
    "import matplotlib.dates as mdates\n",
    "# Date formatter and locators\n",
    "years = mdates.YearLocator()\n",
    "months = mdates.MonthLocator()\n",
    "years_fmt = mdates.DateFormatter('%Y')\n",
    "\n",
    "x_tesla = df_tesla['MONTH']\n",
    "# SEARCH VALUES\n",
    "y_tesla_search = df_tesla['TSLA_WEB_SEARCH']\n",
    "# PRICE VALUES\n",
    "y_tesla_price = df_tesla['TSLA_USD_CLOSE']\n",
    "\n",
    "fig_tesla, ax1 = plt.subplots(figsize=(14, 8))\n",
    "# Set the title\n",
    "ax1.set_title('Tesla Web Search and Stock Price')\n",
    "# X label\n",
    "ax1.set_xlabel('Date')\n",
    "# LHS for search\n",
    "ax1.set_ylabel('TESLA SEARCH', color=\"red\")\n",
    "ax1.plot(x_tesla, y_tesla_search, color=\"red\")\n",
    "ax1.tick_params(axis='y', labelcolor=\"red\")\n",
    "\n",
    "ax2 = ax1.twinx()  # instantiate a second axes that shares the same x-axis\n",
    "# RHS for stock price\n",
    "\n",
    "ax2.set_ylabel('STOCK PRICE', color=\"blue\")  # we already handled the x-label with ax1\n",
    "ax2.plot(x_tesla, y_tesla_price, color=\"blue\")\n",
    "ax2.tick_params(axis='y', labelcolor=\"blue\")\n",
    "\n",
    "# # Set the minimum and maximum values on the axes\n",
    "# ax1.set_ylim([0, 600])\n",
    "# ax1.set_xlim([df_tesla.MONTH.min(), df_tesla.MONTH.max()])\n",
    "\n",
    "# format the ticks\n",
    "ax1.xaxis.set_major_locator(years)\n",
    "ax1.xaxis.set_major_formatter(years_fmt)\n",
    "ax1.xaxis.set_minor_locator(months)\n",
    "\n",
    "fig_tesla.tight_layout()  # otherwise the right y-label is slightly clipped"
   ]
  },
  {
   "cell_type": "code",
   "execution_count": null,
   "metadata": {},
   "outputs": [],
   "source": []
  },
  {
   "cell_type": "markdown",
   "metadata": {},
   "source": [
    "### Bitcoin (BTC) Price v.s. Search Volume"
   ]
  },
  {
   "cell_type": "markdown",
   "metadata": {},
   "source": [
    "**Challenge**: Create the same chart for the Bitcoin Prices vs. Search volumes. <br>\n",
    "1. Modify the chart title to read 'Bitcoin News Search vs Resampled Price' <br>\n",
    "2. Change the y-axis label to 'BTC Price' <br>\n",
    "3. Change the y- and x-axis limits to improve the appearance <br>\n",
    "4. Investigate the [linestyles](https://matplotlib.org/3.2.1/api/_as_gen/matplotlib.pyplot.plot.html ) to make the BTC price a dashed line <br>\n",
    "5. Investigate the [marker types](https://matplotlib.org/3.2.1/api/markers_api.html) to make the search datapoints little circles <br>\n",
    "6. Were big increases in searches for Bitcoin accompanied by big increases in the price?"
   ]
  },
  {
   "cell_type": "code",
   "execution_count": 164,
   "metadata": {},
   "outputs": [
    {
     "data": {
      "text/plain": [
       "Index(['DATE', 'CLOSE', 'VOLUME'], dtype='object')"
      ]
     },
     "execution_count": 164,
     "metadata": {},
     "output_type": "execute_result"
    }
   ],
   "source": [
    "df_btc_price_monthly.columns"
   ]
  },
  {
   "cell_type": "code",
   "execution_count": 168,
   "metadata": {},
   "outputs": [
    {
     "data": {
      "image/png": "[encoded data removed]",
      "text/plain": [
       "<Figure size 1008x576 with 2 Axes>"
      ]
     },
     "metadata": {
      "needs_background": "light"
     },
     "output_type": "display_data"
    }
   ],
   "source": [
    "x_btc = df_btc_search['MONTH']\n",
    "# SEARCH VALUES\n",
    "y_btc_search = df_btc_search['BTC_NEWS_SEARCH']\n",
    "# PRICE VALUES\n",
    "y_btc_price = df_btc_price_monthly['CLOSE']\n",
    "\n",
    "fig_btc, ax1 = plt.subplots(figsize=(14, 8))\n",
    "\n",
    "# 1. Set the title\n",
    "ax1.set_title('Bitcoin News Search vs Resampled Price')\n",
    "# X label\n",
    "ax1.set_xlabel('Date')\n",
    "# LHS for search\n",
    "ax1.set_ylabel('BITCOIN SEARCH', color=\"red\")\n",
    "# PLOT DATA\n",
    "ax1.plot(x_btc, y_btc_search, color=\"red\", marker='o')\n",
    "ax1.tick_params(axis='y', labelcolor=\"red\")\n",
    "\n",
    "ax2 = ax1.twinx()  # instantiate a second axes that shares the same x-axis\n",
    "# RHS for stock price\n",
    "\n",
    "ax2.set_ylabel('BTC STOCK PRICE', color=\"blue\")  # we already handled the x-label with ax1\n",
    "# PLOT DATA\n",
    "ax2.plot(x_btc, y_btc_price, color=\"blue\", ls=\"--\")\n",
    "ax2.tick_params(axis='y', labelcolor=\"blue\")\n",
    "\n",
    "# # Set the minimum and maximum values on the axes\n",
    "# ax1.set_ylim([0, 600])\n",
    "# ax1.set_xlim([df_tesla.MONTH.min(), df_tesla.MONTH.max()])\n",
    "\n",
    "# format the ticks\n",
    "ax1.xaxis.set_major_locator(years)\n",
    "ax1.xaxis.set_major_formatter(years_fmt)\n",
    "ax1.xaxis.set_minor_locator(months)\n",
    "\n",
    "fig_tesla.tight_layout()  # otherwise the right y-label is slightly clipped"
   ]
  },
  {
   "cell_type": "code",
   "execution_count": null,
   "metadata": {},
   "outputs": [],
   "source": []
  },
  {
   "cell_type": "markdown",
   "metadata": {},
   "source": [
    "### Unemployement Benefits Search vs. Actual Unemployment in the U.S."
   ]
  },
  {
   "cell_type": "markdown",
   "metadata": {},
   "source": [
    "**Challenge** Plot the search for \"unemployment benefits\" against the unemployment rate. \n",
    "1. Change the title to: Monthly Search of \"Unemployment Benefits\" in the U.S. vs the U/E Rate <br>\n",
    "2. Change the y-axis label to: FRED U/E Rate <br>\n",
    "3. Change the axis limits <br>\n",
    "4. Add a grey [grid](https://matplotlib.org/3.2.1/api/_as_gen/matplotlib.pyplot.grid.html) to the chart to better see the years and the U/E rate values. Use dashes for the line style<br> \n",
    "5. Can you discern any seasonality in the searches? Is there a pattern? "
   ]
  },
  {
   "cell_type": "code",
   "execution_count": 169,
   "metadata": {},
   "outputs": [
    {
     "data": {
      "text/html": [
       "<div>\n",
       "<style scoped>\n",
       "    .dataframe tbody tr th:only-of-type {\n",
       "        vertical-align: middle;\n",
       "    }\n",
       "\n",
       "    .dataframe tbody tr th {\n",
       "        vertical-align: top;\n",
       "    }\n",
       "\n",
       "    .dataframe thead th {\n",
       "        text-align: right;\n",
       "    }\n",
       "</style>\n",
       "<table border=\"1\" class=\"dataframe\">\n",
       "  <thead>\n",
       "    <tr style=\"text-align: right;\">\n",
       "      <th></th>\n",
       "      <th>MONTH</th>\n",
       "      <th>UE_BENEFITS_WEB_SEARCH</th>\n",
       "      <th>UNRATE</th>\n",
       "    </tr>\n",
       "  </thead>\n",
       "  <tbody>\n",
       "    <tr>\n",
       "      <th>0</th>\n",
       "      <td>2004-01-01</td>\n",
       "      <td>34</td>\n",
       "      <td>5.7</td>\n",
       "    </tr>\n",
       "    <tr>\n",
       "      <th>1</th>\n",
       "      <td>2004-02-01</td>\n",
       "      <td>33</td>\n",
       "      <td>5.6</td>\n",
       "    </tr>\n",
       "    <tr>\n",
       "      <th>2</th>\n",
       "      <td>2004-03-01</td>\n",
       "      <td>25</td>\n",
       "      <td>5.8</td>\n",
       "    </tr>\n",
       "    <tr>\n",
       "      <th>3</th>\n",
       "      <td>2004-04-01</td>\n",
       "      <td>29</td>\n",
       "      <td>5.6</td>\n",
       "    </tr>\n",
       "    <tr>\n",
       "      <th>4</th>\n",
       "      <td>2004-05-01</td>\n",
       "      <td>23</td>\n",
       "      <td>5.6</td>\n",
       "    </tr>\n",
       "  </tbody>\n",
       "</table>\n",
       "</div>"
      ],
      "text/plain": [
       "       MONTH  UE_BENEFITS_WEB_SEARCH  UNRATE\n",
       "0 2004-01-01                      34     5.7\n",
       "1 2004-02-01                      33     5.6\n",
       "2 2004-03-01                      25     5.8\n",
       "3 2004-04-01                      29     5.6\n",
       "4 2004-05-01                      23     5.6"
      ]
     },
     "execution_count": 169,
     "metadata": {},
     "output_type": "execute_result"
    }
   ],
   "source": [
    "df_unemployment.head()"
   ]
  },
  {
   "cell_type": "code",
   "execution_count": 176,
   "metadata": {},
   "outputs": [
    {
     "data": {
      "image/png": "[encoded data removed]",
      "text/plain": [
       "<Figure size 1008x576 with 2 Axes>"
      ]
     },
     "metadata": {
      "needs_background": "light"
     },
     "output_type": "display_data"
    }
   ],
   "source": [
    "# Set x values as months\n",
    "x_unemp = df_unemployment['MONTH']\n",
    "\n",
    "# LHS UNEMPLOYMENT RATE VALUES\n",
    "y_unemp_stock_price = df_unemployment['UNRATE']\n",
    "\n",
    "\n",
    "# RHS SEARCH VALUES\n",
    "y_unemp_search = df_unemployment['UE_BENEFITS_WEB_SEARCH']\n",
    "\n",
    "# Create our Figure and axes\n",
    "fig_btc, ax1 = plt.subplots(figsize=(14, 8))\n",
    "\n",
    "# 1. Set the title\n",
    "ax1.set_title('Monthly Search of \"Unemployment Benefits\" in the U.S. vs the U/E Rate')\n",
    "\n",
    "# X axis label\n",
    "ax1.set_xlabel('Date')\n",
    "\n",
    "# RHS LABEL - UNEMPLOYMENT RATE VALUES\n",
    "ax1.set_ylabel('Unemployment Rate', color=\"blue\")  # we already handled the x-label with ax1\n",
    "# >> PLOT DATA\n",
    "ax1.plot(x_unemp, y_unemp_stock_price, color=\"blue\", ls=\"--\")\n",
    "ax1.tick_params(axis='y', labelcolor=\"blue\")\n",
    "\n",
    "# ADD in GRID\n",
    "ax1.grid(color='grey', linestyle='--')\n",
    "\n",
    "# instantiate a second axes that shares the same x-axis\n",
    "ax2 = ax1.twinx()  \n",
    "\n",
    "\n",
    "# LHS LABEL - SEARCH VALUES\n",
    "ax2.set_ylabel('Search Trend', color=\"red\")\n",
    "# >> PLOT DATA\n",
    "ax2.plot(x_unemp, y_unemp_search, color=\"red\")\n",
    "ax2.tick_params(axis='y', labelcolor=\"red\")\n",
    "\n",
    "# # Set the minimum and maximum values on the axes\n",
    "# ax1.set_ylim([0, 600])\n",
    "# ax1.set_xlim([df_tesla.MONTH.min(), df_tesla.MONTH.max()])\n",
    "\n",
    "# format the ticks\n",
    "ax1.xaxis.set_major_locator(years)\n",
    "ax1.xaxis.set_major_formatter(years_fmt)\n",
    "ax1.xaxis.set_minor_locator(months)\n",
    "\n",
    "fig_tesla.tight_layout()  # otherwise the right y-label is slightly clipped"
   ]
  },
  {
   "cell_type": "markdown",
   "metadata": {},
   "source": [
    "**Challenge**: Calculate the 3-month or 6-month rolling average for the web searches. Plot the 6-month rolling average search data against the actual unemployment. What do you see in the chart? Which line moves first?\n"
   ]
  },
  {
   "cell_type": "code",
   "execution_count": 180,
   "metadata": {},
   "outputs": [],
   "source": [
    "df_rolled = df_unemployment[['UE_BENEFITS_WEB_SEARCH', 'UNRATE']].rolling(window=6).mean()"
   ]
  },
  {
   "cell_type": "code",
   "execution_count": 181,
   "metadata": {},
   "outputs": [
    {
     "data": {
      "image/png": "[encoded data removed]",
      "text/plain": [
       "<Figure size 1008x576 with 2 Axes>"
      ]
     },
     "metadata": {
      "needs_background": "light"
     },
     "output_type": "display_data"
    }
   ],
   "source": [
    "# Set x values as months\n",
    "x_unemp = df_unemployment['MONTH']\n",
    "\n",
    "# LHS UNEMPLOYMENT RATE VALUES\n",
    "y_unemp_stock_price = df_rolled['UNRATE']\n",
    "\n",
    "\n",
    "# RHS SEARCH VALUES\n",
    "y_unemp_search = df_unemployment['UE_BENEFITS_WEB_SEARCH']\n",
    "\n",
    "# Create our Figure and axes\n",
    "fig_unemp, ax1 = plt.subplots(figsize=(14, 8))\n",
    "\n",
    "# 1. Set the title\n",
    "ax1.set_title('Monthly Search of \"Unemployment Benefits\" in the U.S. vs the U/E Rate')\n",
    "\n",
    "# X axis label\n",
    "ax1.set_xlabel('Date')\n",
    "\n",
    "# RHS LABEL - UNEMPLOYMENT RATE VALUES\n",
    "ax1.set_ylabel('Unemployment Rate', color=\"blue\")  # we already handled the x-label with ax1\n",
    "# >> PLOT DATA\n",
    "ax1.plot(x_unemp, y_unemp_stock_price, color=\"blue\", ls=\"--\")\n",
    "ax1.tick_params(axis='y', labelcolor=\"blue\")\n",
    "\n",
    "# ADD in GRID\n",
    "ax1.grid(color='grey', linestyle='--')\n",
    "\n",
    "# instantiate a second axes that shares the same x-axis\n",
    "ax2 = ax1.twinx()  \n",
    "\n",
    "\n",
    "# LHS LABEL - SEARCH VALUES\n",
    "ax2.set_ylabel('Search Trend', color=\"red\")\n",
    "# >> PLOT DATA\n",
    "ax2.plot(x_unemp, y_unemp_search, color=\"red\")\n",
    "ax2.tick_params(axis='y', labelcolor=\"red\")\n",
    "\n",
    "# # Set the minimum and maximum values on the axes\n",
    "# ax1.set_ylim([0, 600])\n",
    "# ax1.set_xlim([df_tesla.MONTH.min(), df_tesla.MONTH.max()])\n",
    "\n",
    "# format the ticks\n",
    "ax1.xaxis.set_major_locator(years)\n",
    "ax1.xaxis.set_major_formatter(years_fmt)\n",
    "ax1.xaxis.set_minor_locator(months)\n",
    "\n",
    "fig_unemp.tight_layout()"
   ]
  },
  {
   "cell_type": "markdown",
   "metadata": {},
   "source": [
    "### Including 2020 in Unemployment Charts"
   ]
  },
  {
   "cell_type": "markdown",
   "metadata": {},
   "source": [
    "**Challenge**: Read the data in the 'UE Benefits Search vs UE Rate 2004-20.csv' into a DataFrame. Convert the MONTH column to Pandas Datetime objects and then plot the chart. What do you see?"
   ]
  },
  {
   "cell_type": "code",
   "execution_count": 182,
   "metadata": {},
   "outputs": [],
   "source": [
    "df_ue_2020 = pd.read_csv('UE Benefits Search vs UE Rate 2004-20.csv')"
   ]
  },
  {
   "cell_type": "code",
   "execution_count": 183,
   "metadata": {},
   "outputs": [
    {
     "data": {
      "text/html": [
       "<div>\n",
       "<style scoped>\n",
       "    .dataframe tbody tr th:only-of-type {\n",
       "        vertical-align: middle;\n",
       "    }\n",
       "\n",
       "    .dataframe tbody tr th {\n",
       "        vertical-align: top;\n",
       "    }\n",
       "\n",
       "    .dataframe thead th {\n",
       "        text-align: right;\n",
       "    }\n",
       "</style>\n",
       "<table border=\"1\" class=\"dataframe\">\n",
       "  <thead>\n",
       "    <tr style=\"text-align: right;\">\n",
       "      <th></th>\n",
       "      <th>MONTH</th>\n",
       "      <th>UE_BENEFITS_WEB_SEARCH</th>\n",
       "      <th>UNRATE</th>\n",
       "    </tr>\n",
       "  </thead>\n",
       "  <tbody>\n",
       "    <tr>\n",
       "      <th>0</th>\n",
       "      <td>2004-01</td>\n",
       "      <td>9</td>\n",
       "      <td>5.7</td>\n",
       "    </tr>\n",
       "    <tr>\n",
       "      <th>1</th>\n",
       "      <td>2004-02</td>\n",
       "      <td>8</td>\n",
       "      <td>5.6</td>\n",
       "    </tr>\n",
       "    <tr>\n",
       "      <th>2</th>\n",
       "      <td>2004-03</td>\n",
       "      <td>7</td>\n",
       "      <td>5.8</td>\n",
       "    </tr>\n",
       "    <tr>\n",
       "      <th>3</th>\n",
       "      <td>2004-04</td>\n",
       "      <td>8</td>\n",
       "      <td>5.6</td>\n",
       "    </tr>\n",
       "    <tr>\n",
       "      <th>4</th>\n",
       "      <td>2004-05</td>\n",
       "      <td>6</td>\n",
       "      <td>5.6</td>\n",
       "    </tr>\n",
       "  </tbody>\n",
       "</table>\n",
       "</div>"
      ],
      "text/plain": [
       "     MONTH  UE_BENEFITS_WEB_SEARCH  UNRATE\n",
       "0  2004-01                       9     5.7\n",
       "1  2004-02                       8     5.6\n",
       "2  2004-03                       7     5.8\n",
       "3  2004-04                       8     5.6\n",
       "4  2004-05                       6     5.6"
      ]
     },
     "execution_count": 183,
     "metadata": {},
     "output_type": "execute_result"
    }
   ],
   "source": [
    "df_ue_2020.head()"
   ]
  },
  {
   "cell_type": "code",
   "execution_count": 186,
   "metadata": {},
   "outputs": [],
   "source": [
    "# Convert MONTH columns to Datetime object again\n",
    "df_ue_2020['MONTH'] = pd.to_datetime(df_ue_2020['MONTH'])"
   ]
  },
  {
   "cell_type": "code",
   "execution_count": 190,
   "metadata": {},
   "outputs": [],
   "source": [
    "# Roll again\n",
    "df_rolled_2020 = df_ue_2020[['UE_BENEFITS_WEB_SEARCH', 'UNRATE']].rolling(window=6).mean()"
   ]
  },
  {
   "cell_type": "code",
   "execution_count": 191,
   "metadata": {},
   "outputs": [
    {
     "data": {
      "image/png": "[encoded data removed]",
      "text/plain": [
       "<Figure size 1008x576 with 2 Axes>"
      ]
     },
     "metadata": {
      "needs_background": "light"
     },
     "output_type": "display_data"
    }
   ],
   "source": [
    "# Set x values as months\n",
    "x_unemp = df_ue_2020['MONTH']\n",
    "\n",
    "# LHS UNEMPLOYMENT RATE VALUES\n",
    "y_unemp_stock_price = df_ue_2020['UNRATE']\n",
    "\n",
    "\n",
    "# RHS SEARCH VALUES\n",
    "y_unemp_search = df_rolled_2020['UE_BENEFITS_WEB_SEARCH']\n",
    "\n",
    "# Create our Figure and axes\n",
    "fig_unemp, ax1 = plt.subplots(figsize=(14, 8))\n",
    "\n",
    "# 1. Set the title\n",
    "ax1.set_title('Monthly Search of \"Unemployment Benefits\" in the U.S. vs the U/E Rate')\n",
    "\n",
    "# X axis label\n",
    "ax1.set_xlabel('Date')\n",
    "\n",
    "# RHS LABEL - UNEMPLOYMENT RATE VALUES\n",
    "ax1.set_ylabel('Unemployment Rate', color=\"blue\")  # we already handled the x-label with ax1\n",
    "# >> PLOT DATA\n",
    "ax1.plot(x_unemp, y_unemp_stock_price, color=\"blue\", ls=\"--\")\n",
    "ax1.tick_params(axis='y', labelcolor=\"blue\")\n",
    "\n",
    "# ADD in GRID\n",
    "ax1.grid(color='grey', linestyle='--')\n",
    "\n",
    "# instantiate a second axes that shares the same x-axis\n",
    "ax2 = ax1.twinx()  \n",
    "\n",
    "\n",
    "# LHS LABEL - SEARCH VALUES\n",
    "ax2.set_ylabel('Search Trend', color=\"red\")\n",
    "# >> PLOT DATA\n",
    "ax2.plot(x_unemp, y_unemp_search, color=\"red\")\n",
    "ax2.tick_params(axis='y', labelcolor=\"red\")\n",
    "\n",
    "# # Set the minimum and maximum values on the axes\n",
    "# ax1.set_ylim([0, 600])\n",
    "# ax1.set_xlim([df_tesla.MONTH.min(), df_tesla.MONTH.max()])\n",
    "\n",
    "# format the ticks\n",
    "ax1.xaxis.set_major_locator(years)\n",
    "ax1.xaxis.set_major_formatter(years_fmt)\n",
    "ax1.xaxis.set_minor_locator(months)\n",
    "\n",
    "fig_unemp.tight_layout()"
   ]
  },
  {
   "cell_type": "code",
   "execution_count": null,
   "metadata": {},
   "outputs": [],
   "source": []
  },
  {
   "cell_type": "code",
   "execution_count": null,
   "metadata": {},
   "outputs": [],
   "source": []
  }
 ],
 "metadata": {
  "kernelspec": {
   "display_name": "Python 3 (ipykernel)",
   "language": "python",
   "name": "python3"
  },
  "language_info": {
   "codemirror_mode": {
    "name": "ipython",
    "version": 3
   },
   "file_extension": ".py",
   "mimetype": "text/x-python",
   "name": "python",
   "nbconvert_exporter": "python",
   "pygments_lexer": "ipython3",
   "version": "3.9.7"
  }
 },
 "nbformat": 4,
 "nbformat_minor": 2
}
